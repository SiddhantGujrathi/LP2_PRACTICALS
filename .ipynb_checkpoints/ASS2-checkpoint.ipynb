{
 "cells": [
  {
   "cell_type": "markdown",
   "id": "5dae4b68-3357-480c-841d-aa9ff1879316",
   "metadata": {},
   "source": [
    "Implement A star Algorithm for any game search problem.\n",
    "\n",
    "[ Implemented the A* algorithm for finding the shortest path between two nodes in a graph ]\n",
    "\n",
    "Author : Siddhant Gujrathi"
   ]
  },
  {
   "cell_type": "code",
   "execution_count": 1,
   "id": "ef62ba38-55b1-4366-a232-3849a64b0baf",
   "metadata": {},
   "outputs": [],
   "source": [
    "def aStarAlgo(start_node, stop_node):\n",
    "        open_set = set(start_node) \n",
    "        closed_set = set()\n",
    "        g = {}\n",
    "        parents = {}\n",
    "        g[start_node] = 0\n",
    "        parents[start_node] = start_node\n",
    "         \n",
    "         \n",
    "        while len(open_set) > 0:\n",
    "            n = None\n",
    "\n",
    "            for v in open_set:\n",
    "                if n == None or g[v] + heuristic(v) < g[n] + heuristic(n):\n",
    "                    n = v\n",
    "             \n",
    "                     \n",
    "            if n == stop_node or Graph_nodes[n] == None:\n",
    "                pass\n",
    "            else:\n",
    "                for (m, weight) in get_neighbors(n):\n",
    "\n",
    "                    if m not in open_set and m not in closed_set:\n",
    "                        open_set.add(m)\n",
    "                        parents[m] = n\n",
    "                        g[m] = g[n] + weight\n",
    "                         \n",
    "                    else:\n",
    "                        if g[m] > g[n] + weight:\n",
    "                            g[m] = g[n] + weight\n",
    "                            parents[m] = n  \n",
    "                            if m in closed_set:\n",
    "                                closed_set.remove(m)\n",
    "                                open_set.add(m)\n",
    " \n",
    "            if n == None:\n",
    "                print('Path does not exist!')\n",
    "                return None\n",
    " \n",
    "            if n == stop_node:\n",
    "                path = []\n",
    " \n",
    "                while parents[n] != n:\n",
    "                    path.append(n)\n",
    "                    n = parents[n]\n",
    " \n",
    "                path.append(start_node)\n",
    "                path.reverse()\n",
    " \n",
    "                print('Path found: {}'.format(path))\n",
    "                return path\n",
    " \n",
    "            open_set.remove(n)\n",
    "            closed_set.add(n)\n",
    " \n",
    "        print('Path does not exist!')\n",
    "        return None\n",
    "         "
   ]
  },
  {
   "cell_type": "code",
   "execution_count": 2,
   "id": "e0d88b73-35c3-477a-a4f9-38452e069631",
   "metadata": {},
   "outputs": [],
   "source": [
    "#define fuction to return neighbor and its distance from the passed node\n",
    "def get_neighbors(v):\n",
    "    if v in Graph_nodes:\n",
    "        return Graph_nodes[v]\n",
    "    else:\n",
    "        return None"
   ]
  },
  {
   "cell_type": "code",
   "execution_count": 3,
   "id": "cb14ae3f-7ade-4898-a04e-c1bbb22ee2bb",
   "metadata": {},
   "outputs": [],
   "source": [
    "#for simplicity we ll consider heuristic distances given\n",
    "#and this function returns heuristic distance for all nodes\n",
    "def heuristic(n):\n",
    "        H_dist = {\n",
    "            'A': 11,\n",
    "            'B': 6,\n",
    "            'C': 99,\n",
    "            'D': 1,\n",
    "            'E': 7,\n",
    "            'G': 0,\n",
    "             \n",
    "        }\n",
    " \n",
    "        return H_dist[n]"
   ]
  },
  {
   "cell_type": "code",
   "execution_count": 4,
   "id": "e8680a1d-1b14-4a54-9c35-c3a753f47d8c",
   "metadata": {},
   "outputs": [
    {
     "name": "stdout",
     "output_type": "stream",
     "text": [
      "Path found: ['A', 'E', 'D', 'G']\n"
     ]
    },
    {
     "data": {
      "text/plain": [
       "['A', 'E', 'D', 'G']"
      ]
     },
     "execution_count": 4,
     "metadata": {},
     "output_type": "execute_result"
    }
   ],
   "source": [
    " #Describe your graph here  \n",
    "Graph_nodes = {\n",
    "    'A': [('B', 2), ('E', 3)],\n",
    "    'B': [('C', 1),('G', 9)],\n",
    "    'C': None,\n",
    "    'E': [('D', 6)],\n",
    "    'D': [('G', 1)],\n",
    "     \n",
    "}\n",
    "aStarAlgo('A', 'G')"
   ]
  },
  {
   "cell_type": "code",
   "execution_count": null,
   "id": "874327c4-42b6-43e9-9fbe-5334f57fb64a",
   "metadata": {},
   "outputs": [],
   "source": []
  }
 ],
 "metadata": {
  "kernelspec": {
   "display_name": "Python 3 (ipykernel)",
   "language": "python",
   "name": "python3"
  },
  "language_info": {
   "codemirror_mode": {
    "name": "ipython",
    "version": 3
   },
   "file_extension": ".py",
   "mimetype": "text/x-python",
   "name": "python",
   "nbconvert_exporter": "python",
   "pygments_lexer": "ipython3",
   "version": "3.9.9"
  }
 },
 "nbformat": 4,
 "nbformat_minor": 5
}
