{
 "cells": [
  {
   "cell_type": "markdown",
   "id": "60941ea4-4095-4cfb-afd7-bb5c0e918b6d",
   "metadata": {},
   "source": [
    "Implement Greedy search algorithm for any of the following application:\n",
    "    <br>I. Selection Sort\n",
    "    <br>II. Minimum Spanning Tree\n",
    "    <br>III. Single-Source Shortest Path Problem\n",
    "    <br>IV. Job Scheduling Problem\n",
    "    <br>V. Prim's Minimal Spanning Tree Algorithm\n",
    "    <br>VI. Kruskal's Minimal Spanning Tree Algorithm\n",
    "    <br>VII. Dijkstra's Minimal Spanning Tree Algorithm\n"
   ]
  },
  {
   "cell_type": "markdown",
   "id": "0344e18b-c67e-4414-8389-14f027f3e63a",
   "metadata": {},
   "source": [
    "## 1. Selection Sort"
   ]
  },
  {
   "cell_type": "code",
   "execution_count": 1,
   "id": "68bb359f-6906-421d-8e4a-c379a32e3546",
   "metadata": {},
   "outputs": [],
   "source": [
    "def selection_sort(arr):\n",
    "    n = len(arr)\n",
    "    for i in range(n):\n",
    "        min_idx = i\n",
    "        for j in range(i+1, n):\n",
    "            if arr[j] < arr[min_idx]:\n",
    "                min_idx = j\n",
    "        arr[i], arr[min_idx] = arr[min_idx], arr[i]\n",
    "    return arr"
   ]
  },
  {
   "cell_type": "code",
   "execution_count": 2,
   "id": "bf6247c7-0250-413a-bd54-23473bb895a6",
   "metadata": {},
   "outputs": [
    {
     "name": "stdout",
     "output_type": "stream",
     "text": [
      "Sorted array is: [11, 12, 22, 25, 64]\n"
     ]
    }
   ],
   "source": [
    "arr = [64, 25, 12, 22, 11]\n",
    "sorted_arr = selection_sort(arr)\n",
    "print(\"Sorted array is:\", sorted_arr)"
   ]
  },
  {
   "cell_type": "markdown",
   "id": "0cd4f7c3-5fba-4cb2-8c1f-dce684740da2",
   "metadata": {},
   "source": [
    "## 2. Minimum Spanning Tree"
   ]
  },
  {
   "cell_type": "code",
   "execution_count": 3,
   "id": "87b8babb-45ec-4831-adf6-905a05c7f61a",
   "metadata": {},
   "outputs": [],
   "source": [
    "import heapq\n",
    "\n",
    "def prim_mst(graph):\n",
    "    mst = []\n",
    "    visited = set()\n",
    "    \n",
    "    start_vertex = list(graph.keys())[0]\n",
    "    visited.add(start_vertex)\n",
    "    \n",
    "    edges = [(weight, start_vertex, neighbor) for neighbor, weight in graph[start_vertex].items()]\n",
    "    heapq.heapify(edges)\n",
    "    \n",
    "    while edges:\n",
    "        weight, u, v = heapq.heappop(edges)\n",
    "        \n",
    "        if v not in visited:\n",
    "            visited.add(v)\n",
    "            mst.append((u, v, weight))\n",
    "            \n",
    "            for neighbor, edge_weight in graph[v].items():\n",
    "                if neighbor not in visited:\n",
    "                    heapq.heappush(edges, (edge_weight, v, neighbor))\n",
    "    \n",
    "    return mst\n"
   ]
  },
  {
   "cell_type": "code",
   "execution_count": 4,
   "id": "074ab999-1bea-4050-a3bd-cd774124b5c6",
   "metadata": {},
   "outputs": [],
   "source": [
    "graph = {\n",
    "    'A': {'B': 2, 'C': 3},\n",
    "    'B': {'A': 2, 'C': 1, 'D': 1},\n",
    "    'C': {'A': 3, 'B': 1, 'D': 2},\n",
    "    'D': {'B': 1, 'C': 2}\n",
    "}"
   ]
  },
  {
   "cell_type": "code",
   "execution_count": 5,
   "id": "89f8eed3-c555-4039-9c3a-3cfca6f5a575",
   "metadata": {},
   "outputs": [
    {
     "name": "stdout",
     "output_type": "stream",
     "text": [
      "Minimum Spanning Tree:\n",
      "A - B: 2\n",
      "B - C: 1\n",
      "B - D: 1\n"
     ]
    }
   ],
   "source": [
    "mst = prim_mst(graph)\n",
    "print(\"Minimum Spanning Tree:\")\n",
    "for edge in mst:\n",
    "    print(f\"{edge[0]} - {edge[1]}: {edge[2]}\")"
   ]
  },
  {
   "cell_type": "markdown",
   "id": "923381bb-3cb2-4437-a0fb-259a14e928d4",
   "metadata": {},
   "source": [
    "## 4. Job Scheduling Problem"
   ]
  },
  {
   "cell_type": "code",
   "execution_count": 6,
   "id": "d222587e-92b5-406e-9c3f-777f2854698e",
   "metadata": {},
   "outputs": [],
   "source": [
    "def job_scheduling(jobs):\n",
    "    # Sort jobs by deadline (earliest deadline first)\n",
    "    jobs.sort(key=lambda x: x[1])\n",
    "    \n",
    "    # Initialize the schedule and the current time\n",
    "    schedule = []\n",
    "    current_time = 0\n",
    "    \n",
    "    for job in jobs:\n",
    "        start_time = max(current_time, job[0])  # Start time is either the current time or the job's release time\n",
    "        end_time = start_time + job[2]          # End time is the start time plus the job's duration\n",
    "        \n",
    "        if end_time <= job[1]:  # Job can be completed before deadline\n",
    "            schedule.append((job[0], start_time, end_time))\n",
    "            current_time = end_time\n",
    "        else:\n",
    "            # Job cannot be completed before deadline, skip it\n",
    "            continue\n",
    "    \n",
    "    return schedule\n"
   ]
  },
  {
   "cell_type": "code",
   "execution_count": 7,
   "id": "d938d6a1-4a59-4931-81af-5c5541fe87f4",
   "metadata": {},
   "outputs": [
    {
     "name": "stdout",
     "output_type": "stream",
     "text": [
      "Job Schedule:\n",
      "Job 1: Start Time = 0, End Time = 2\n",
      "Job 2: Start Time = 2, End Time = 3\n",
      "Job 3: Start Time = 4, End Time = 6\n"
     ]
    }
   ],
   "source": [
    "# Example jobs: (release time, deadline, duration)\n",
    "jobs = [(0, 3, 2), (1, 4, 3), (2, 6, 1), (4, 7, 2)]\n",
    "schedule = job_scheduling(jobs)\n",
    "\n",
    "# Print the schedule\n",
    "print(\"Job Schedule:\")\n",
    "for idx, job in enumerate(schedule, start=1):\n",
    "    print(f\"Job {idx}: Start Time = {job[1]}, End Time = {job[2]}\")"
   ]
  },
  {
   "cell_type": "markdown",
   "id": "99756604-5b04-4cc8-8d0d-097964272c54",
   "metadata": {},
   "source": [
    "## 7. Dijkstra's Minimal Spanning Tree Algorithm"
   ]
  },
  {
   "cell_type": "code",
   "execution_count": 8,
   "id": "9a7448f6-63e6-4647-a65c-f16951fdb401",
   "metadata": {},
   "outputs": [],
   "source": [
    "import heapq\n",
    "\n",
    "def dijkstra(graph, start):\n",
    "    # Initialize distances from start to all other vertices as INFINITE\n",
    "    distances = {vertex: float(\"infinity\") for vertex in graph}\n",
    "    distances[start] = 0\n",
    "    \n",
    "    # Priority queue to store vertices and their distances\n",
    "    pq = [(0, start)]\n",
    "    \n",
    "    while pq:\n",
    "        current_distance, current_vertex = heapq.heappop(pq)\n",
    "        \n",
    "        # If current vertex is already processed, skip\n",
    "        if current_distance > distances[current_vertex]:\n",
    "            continue\n",
    "        \n",
    "        for neighbor, weight in graph[current_vertex].items():\n",
    "            distance = current_distance + weight\n",
    "            # If new distance is shorter than the known distance, update it\n",
    "            if distance < distances[neighbor]:\n",
    "                distances[neighbor] = distance\n",
    "                heapq.heappush(pq, (distance, neighbor))\n",
    "    \n",
    "    return distances"
   ]
  },
  {
   "cell_type": "code",
   "execution_count": 9,
   "id": "86663c17-0f88-4b05-837a-ac56dbdd0613",
   "metadata": {},
   "outputs": [],
   "source": [
    "# Example graph\n",
    "graph = {\n",
    "    'A': {'B': 1, 'C': 4},\n",
    "    'B': {'A': 1, 'C': 2, 'D': 5},\n",
    "    'C': {'A': 4, 'B': 2, 'D': 1},\n",
    "    'D': {'B': 5, 'C': 1}\n",
    "}"
   ]
  },
  {
   "cell_type": "code",
   "execution_count": 10,
   "id": "ffb7a618-4d66-45f8-b978-908c8f66fed9",
   "metadata": {},
   "outputs": [
    {
     "name": "stdout",
     "output_type": "stream",
     "text": [
      "Shortest distances from vertex A\n",
      "To A : 0\n",
      "To B : 1\n",
      "To C : 3\n",
      "To D : 4\n"
     ]
    }
   ],
   "source": [
    "start_vertex = 'A'\n",
    "shortest_distances = dijkstra(graph, start_vertex)\n",
    "print(\"Shortest distances from vertex\", start_vertex)\n",
    "for vertex, distance in shortest_distances.items():\n",
    "    print(f\"To {vertex} : {distance}\")"
   ]
  },
  {
   "cell_type": "markdown",
   "id": "9afb1886-a7d0-4694-8131-82ba36b86437",
   "metadata": {},
   "source": []
  }
 ],
 "metadata": {
  "kernelspec": {
   "display_name": "Python 3 (ipykernel)",
   "language": "python",
   "name": "python3"
  },
  "language_info": {
   "codemirror_mode": {
    "name": "ipython",
    "version": 3
   },
   "file_extension": ".py",
   "mimetype": "text/x-python",
   "name": "python",
   "nbconvert_exporter": "python",
   "pygments_lexer": "ipython3",
   "version": "3.9.9"
  }
 },
 "nbformat": 4,
 "nbformat_minor": 5
}
