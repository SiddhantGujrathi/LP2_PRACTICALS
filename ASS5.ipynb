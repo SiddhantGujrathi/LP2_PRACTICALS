{
 "cells": [
  {
   "cell_type": "markdown",
   "id": "b8d9684a-94a2-4a34-82ce-1e9bc6aa5b0c",
   "metadata": {},
   "source": [
    "Develop an elementary catboat for any suitable customer interaction application"
   ]
  },
  {
   "cell_type": "code",
   "execution_count": 1,
   "id": "4c1a77d2-710c-44ad-b31c-1e5de34f378f",
   "metadata": {},
   "outputs": [],
   "source": [
    "import random"
   ]
  },
  {
   "cell_type": "code",
   "execution_count": 2,
   "id": "5592ff39-29fc-49fa-aeb5-abfdff55fa5a",
   "metadata": {},
   "outputs": [],
   "source": [
    "# Dictionary of responses\n",
    "responses = {\n",
    "    \"hi\": [\"Hello!\", \"Hi there!\", \"Hey!\"],\n",
    "    \"how are you\": [\"I'm good, thanks!\", \"I'm doing well, how about you?\"],\n",
    "    \"bye\": [\"Goodbye!\", \"See you later!\", \"Bye!\"],\n",
    "    \"default\": [\"I'm not sure what you mean.\", \"Can you please clarify?\", \"I don't understand.\"]\n",
    "}"
   ]
  },
  {
   "cell_type": "code",
   "execution_count": 3,
   "id": "5c696223-ab41-4c35-a57c-509df3ff007e",
   "metadata": {},
   "outputs": [],
   "source": [
    "# Function to get a response\n",
    "def get_response(message):\n",
    "    message = message.lower()\n",
    "    if message in responses:\n",
    "        return random.choice(responses[message])\n",
    "    else:\n",
    "        return random.choice(responses[\"default\"])\n"
   ]
  },
  {
   "cell_type": "code",
   "execution_count": null,
   "id": "0053ada4-6eb4-46d0-a2dd-ee4be6114d0b",
   "metadata": {},
   "outputs": [
    {
     "name": "stdin",
     "output_type": "stream",
     "text": [
      "User:  hi\n"
     ]
    },
    {
     "name": "stdout",
     "output_type": "stream",
     "text": [
      "Chatbot: Hi there!\n"
     ]
    },
    {
     "name": "stdin",
     "output_type": "stream",
     "text": [
      "User:  how are you\n"
     ]
    },
    {
     "name": "stdout",
     "output_type": "stream",
     "text": [
      "Chatbot: I'm good, thanks!\n"
     ]
    },
    {
     "name": "stdin",
     "output_type": "stream",
     "text": [
      "User:  Bye!\n"
     ]
    },
    {
     "name": "stdout",
     "output_type": "stream",
     "text": [
      "Chatbot: I'm not sure what you mean.\n"
     ]
    },
    {
     "name": "stdin",
     "output_type": "stream",
     "text": [
      "User:  Bye\n"
     ]
    },
    {
     "name": "stdout",
     "output_type": "stream",
     "text": [
      "Chatbot: Bye!\n"
     ]
    },
    {
     "name": "stdin",
     "output_type": "stream",
     "text": [
      "User:  what are you doing\n"
     ]
    },
    {
     "name": "stdout",
     "output_type": "stream",
     "text": [
      "Chatbot: Can you please clarify?\n"
     ]
    },
    {
     "name": "stdin",
     "output_type": "stream",
     "text": [
      "User:  Good Night\n"
     ]
    },
    {
     "name": "stdout",
     "output_type": "stream",
     "text": [
      "Chatbot: I'm not sure what you mean.\n"
     ]
    }
   ],
   "source": [
    "# Main loop\n",
    "while True:\n",
    "    user_input = input(\"User: \")\n",
    "    if user_input.lower() == 'exit':\n",
    "        print(\"Chatbot: Goodbye!\")\n",
    "        break\n",
    "    else:\n",
    "        response = get_response(user_input)\n",
    "        print(\"Chatbot:\", response)"
   ]
  }
 ],
 "metadata": {
  "kernelspec": {
   "display_name": "Python 3 (ipykernel)",
   "language": "python",
   "name": "python3"
  },
  "language_info": {
   "codemirror_mode": {
    "name": "ipython",
    "version": 3
   },
   "file_extension": ".py",
   "mimetype": "text/x-python",
   "name": "python",
   "nbconvert_exporter": "python",
   "pygments_lexer": "ipython3",
   "version": "3.9.9"
  }
 },
 "nbformat": 4,
 "nbformat_minor": 5
}
