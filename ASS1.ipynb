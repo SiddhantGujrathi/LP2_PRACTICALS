{
 "cells": [
  {
   "cell_type": "markdown",
   "id": "b659410f-1aea-487b-83bc-66b2090ed611",
   "metadata": {},
   "source": [
    "Implement *depth first search* algorithm and *Breadth First Search* algorithm, Use an\n",
    "undirected graph and develop a *recursive* algorithm for searching all the vertices of a\n",
    "graph or tree data structure\n",
    "\n",
    "Author : Siddhant Gujrathi"
   ]
  },
  {
   "cell_type": "code",
   "execution_count": 1,
   "id": "b43b4774-873c-458a-86bd-ba290192165a",
   "metadata": {},
   "outputs": [],
   "source": [
    "from collections import defaultdict"
   ]
  },
  {
   "cell_type": "code",
   "execution_count": 2,
   "id": "085bc133-bd6d-498e-a639-169ab310e033",
   "metadata": {},
   "outputs": [],
   "source": [
    "from collections import defaultdict\n",
    "\n",
    "class Graph:\n",
    "    def __init__(self):\n",
    "        self.graph = defaultdict(list)\n",
    "\n",
    "    # Add edges to the graph\n",
    "    def add_edge(self, u, v):\n",
    "        self.graph[u].append(v)\n",
    "        self.graph[v].append(u)\n"
   ]
  },
  {
   "cell_type": "code",
   "execution_count": 3,
   "id": "861a57e3-49d3-4169-8d6e-3d42f10f7b3c",
   "metadata": {},
   "outputs": [],
   "source": [
    "def dfs(graph, start_vertex):\n",
    "    visited = set()\n",
    "\n",
    "    def dfs_recursive(vertex):\n",
    "        visited.add(vertex)\n",
    "        print(vertex, end=\" \")\n",
    "\n",
    "        for neighbour in graph[vertex]:\n",
    "            if neighbour not in visited:\n",
    "                dfs_recursive(neighbour)\n",
    "\n",
    "    print(\"\\nDFS traversal:\")\n",
    "    dfs_recursive(start_vertex)"
   ]
  },
  {
   "cell_type": "code",
   "execution_count": 4,
   "id": "5af46b08-7640-411b-8103-4bbb26b881e7",
   "metadata": {},
   "outputs": [],
   "source": [
    "def bfs(graph, start_node, queue=None, visited=None):\n",
    "    if queue is None:\n",
    "        queue = [start_node]\n",
    "    if visited is None:\n",
    "        visited = set()\n",
    "\n",
    "    if not queue:\n",
    "        return\n",
    "\n",
    "    next_queue = []\n",
    "    for node in queue:\n",
    "        if node not in visited:\n",
    "            visited.add(node)\n",
    "            print(node, end=' ')\n",
    "\n",
    "            for neighbour in graph[node]:\n",
    "                if neighbour not in visited:\n",
    "                    next_queue.append(neighbour)\n",
    "\n",
    "    bfs(graph, start_node, next_queue, visited)"
   ]
  },
  {
   "cell_type": "code",
   "execution_count": 5,
   "id": "b73a5c2f-3580-4f6a-8a84-666b66cc06e9",
   "metadata": {},
   "outputs": [],
   "source": [
    "graph = Graph()\n",
    "graph.add_edge('5', '3')\n",
    "graph.add_edge('5', '7')\n",
    "graph.add_edge('3', '2')\n",
    "graph.add_edge('3', '4')\n",
    "graph.add_edge('7', '8')\n",
    "graph.add_edge('4', '8')\n",
    "graph.add_edge('4', '6')\n",
    "graph.add_edge('6', '8')"
   ]
  },
  {
   "cell_type": "code",
   "execution_count": 6,
   "id": "d6d20c2f-141e-441e-9cdf-74461217d805",
   "metadata": {},
   "outputs": [
    {
     "name": "stdout",
     "output_type": "stream",
     "text": [
      "6 4 8 3 7 5 2 "
     ]
    }
   ],
   "source": [
    "bfs(graph.graph, '6')"
   ]
  },
  {
   "cell_type": "code",
   "execution_count": 7,
   "id": "2c375e4f-63de-4e5d-a4c4-171bcb20f867",
   "metadata": {},
   "outputs": [
    {
     "name": "stdout",
     "output_type": "stream",
     "text": [
      "\n",
      "DFS traversal:\n",
      "5 3 2 4 8 7 6 "
     ]
    }
   ],
   "source": [
    "dfs(graph.graph,'5')"
   ]
  }
 ],
 "metadata": {
  "kernelspec": {
   "display_name": "Python 3 (ipykernel)",
   "language": "python",
   "name": "python3"
  },
  "language_info": {
   "codemirror_mode": {
    "name": "ipython",
    "version": 3
   },
   "file_extension": ".py",
   "mimetype": "text/x-python",
   "name": "python",
   "nbconvert_exporter": "python",
   "pygments_lexer": "ipython3",
   "version": "3.9.9"
  }
 },
 "nbformat": 4,
 "nbformat_minor": 5
}
